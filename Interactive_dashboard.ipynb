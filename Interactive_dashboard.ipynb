{
 "cells": [
  {
   "cell_type": "code",
   "execution_count": 1,
   "id": "fdc9dea9-977d-47ec-a607-c4302a010733",
   "metadata": {},
   "outputs": [],
   "source": [
    "import pandas as pd\n",
    "import numpy as np\n",
    "import panel as pn\n",
    "pn.extension('tabulator')\n",
    "import hvplot.pandas"
   ]
  },
  {
   "cell_type": "code",
   "execution_count": 2,
   "id": "97cbf1e9-b3cb-4dbf-a5c4-77d98d13a987",
   "metadata": {},
   "outputs": [],
   "source": [
    "df = pd.read_csv(\"https://raw.githubusercontent.com/owid/co2-data/master/owid-co2-data.csv\")"
   ]
  },
  {
   "cell_type": "code",
   "execution_count": 3,
   "id": "58f973fa-e01c-4b6b-ba6a-532a62b2e1e8",
   "metadata": {},
   "outputs": [],
   "source": [
    "# cache data to improve dashboard performance\n",
    "if 'data' not in pn.state.cache.keys():\n",
    "\n",
    "    df = pd.read_csv('https://raw.githubusercontent.com/owid/co2-data/master/owid-co2-data.csv')\n",
    "\n",
    "    pn.state.cache['data'] = df.copy()\n",
    "\n",
    "else: \n",
    "\n",
    "    df = pn.state.cache['data']"
   ]
  },
  {
   "cell_type": "code",
   "execution_count": 4,
   "id": "28c34f25-8c33-4b36-9597-a876d2e9c02a",
   "metadata": {},
   "outputs": [],
   "source": [
    "df.info()"
   ]
  },
  {
   "cell_type": "code",
   "execution_count": 5,
   "id": "bf0160fd-b26f-406b-97f5-18979365bf20",
   "metadata": {},
   "outputs": [],
   "source": [
    "df[df['country'] == 'North America']"
   ]
  },
  {
   "cell_type": "code",
   "execution_count": 6,
   "id": "263e941d-3bfc-4364-8baa-e6848d0a3580",
   "metadata": {},
   "outputs": [],
   "source": [
    "df[df['country'] == 'World']"
   ]
  },
  {
   "cell_type": "markdown",
   "id": "bf78b9c7-2ceb-410a-ba9c-e668d41587db",
   "metadata": {},
   "source": [
    "## (0) Some minor data preprocessing"
   ]
  },
  {
   "cell_type": "code",
   "execution_count": 7,
   "id": "81ded706-a096-4b08-8358-519af91555aa",
   "metadata": {},
   "outputs": [],
   "source": [
    "# Fill NAs with 0s and create GDP per capita column\n",
    "df = df.fillna(0)\n",
    "df['gdp_per_capita'] = np.where(df['population']!= 0, df['gdp']/ df['population'], 0)"
   ]
  },
  {
   "cell_type": "code",
   "execution_count": 8,
   "id": "3b6d5f4a-f7ef-47fc-a3df-7d60b3cfd97e",
   "metadata": {
    "tags": []
   },
   "outputs": [],
   "source": [
    "# Make DataFrame Pipeline Interactive\n",
    "idf = df.interactive()"
   ]
  },
  {
   "cell_type": "markdown",
   "id": "54629e7a-8cb8-4fbe-a616-6481a8e6ff31",
   "metadata": {},
   "source": [
    "## (1) CO2 emission over time by continent"
   ]
  },
  {
   "cell_type": "code",
   "execution_count": 9,
   "id": "b81a227b-996c-4eec-8dd0-4968831b9eb9",
   "metadata": {},
   "outputs": [],
   "source": [
    "# Define Panel widgets\n",
    "year_slider = pn.widgets.IntSlider(name='Year slider', start=1750, end=2020, step=5, value=1850)\n",
    "year_slider"
   ]
  },
  {
   "cell_type": "code",
   "execution_count": 10,
   "id": "5131fd1d-f9a9-48b2-9168-769435d830fc",
   "metadata": {},
   "outputs": [],
   "source": [
    "# Radio buttons for CO2 measures\n",
    "yaxis_co2 = pn.widgets.RadioButtonGroup(\n",
    "    name='Y axis', \n",
    "    options=['co2', 'co2_per_capita',],\n",
    "    button_type='success'\n",
    ")\n",
    "yaxis_co2"
   ]
  },
  {
   "cell_type": "code",
   "execution_count": 11,
   "id": "4c357628-af69-4ec4-9e2d-91bcdd21c3c9",
   "metadata": {},
   "outputs": [],
   "source": [
    "continents = ['World', 'Asia', 'Oceania', 'Europe', 'Africa', 'North America', 'South America', 'Antarctica']\n",
    "\n",
    "co2_pipeline = (\n",
    "    idf[\n",
    "        (idf.year <= year_slider) &\n",
    "        (idf.country.isin(continents))\n",
    "    ]\n",
    "    .groupby(['country', 'year'])[yaxis_co2].mean()\n",
    "    .to_frame()\n",
    "    .reset_index()\n",
    "    .sort_values(by='year')  \n",
    "    .reset_index(drop=True)\n",
    ")"
   ]
  },
  {
   "cell_type": "code",
   "execution_count": 12,
   "id": "ad349aaf-1612-4a0d-9303-3a379cf83fad",
   "metadata": {
    "jupyter": {
     "outputs_hidden": true
    },
    "tags": []
   },
   "outputs": [],
   "source": [
    "co2_pipeline"
   ]
  },
  {
   "cell_type": "code",
   "execution_count": 13,
   "id": "96b7ed90-92db-41b2-a2ab-ea80aa34d2db",
   "metadata": {
    "tags": []
   },
   "outputs": [],
   "source": [
    "co2_plot = co2_pipeline.hvplot(x = 'year', by='country', y=yaxis_co2,line_width=2, title=\"CO2 emission by continent\")\n",
    "co2_plot"
   ]
  },
  {
   "cell_type": "markdown",
   "id": "b2e3cb1b-093c-47ae-b6df-60a0487d0023",
   "metadata": {},
   "source": [
    "## (2) Table - CO2 emission over time by continent "
   ]
  },
  {
   "cell_type": "code",
   "execution_count": 14,
   "id": "f9496235-820f-49c8-a375-fbef06be6c1e",
   "metadata": {
    "tags": []
   },
   "outputs": [],
   "source": [
    "co2_table = co2_pipeline.pipe(pn.widgets.Tabulator, pagination='remote', page_size = 10, sizing_mode='stretch_width') \n",
    "co2_table"
   ]
  },
  {
   "cell_type": "markdown",
   "id": "e3483f4a-15d2-4361-9f42-0f0dcf0ac399",
   "metadata": {},
   "source": [
    "## (3) CO2 vs GDP scatterplot"
   ]
  },
  {
   "cell_type": "code",
   "execution_count": 15,
   "id": "8cd37bd6-28e0-4805-843a-397873fa2f59",
   "metadata": {},
   "outputs": [],
   "source": [
    "co2_vs_gdp_scatterplot_pipeline = (\n",
    "    idf[\n",
    "        (idf.year == year_slider) &\n",
    "        (~ (idf.country.isin(continents)))\n",
    "    ]\n",
    "    .groupby(['country', 'year', 'gdp_per_capita'])['co2'].mean()\n",
    "    .to_frame()\n",
    "    .reset_index()\n",
    "    .sort_values(by='year')  \n",
    "    .reset_index(drop=True)\n",
    ")"
   ]
  },
  {
   "cell_type": "code",
   "execution_count": 16,
   "id": "6b00d3dd-3df7-497c-aba8-27ba742223bc",
   "metadata": {
    "jupyter": {
     "outputs_hidden": true
    },
    "tags": []
   },
   "outputs": [],
   "source": [
    "co2_vs_gdp_scatterplot_pipeline"
   ]
  },
  {
   "cell_type": "code",
   "execution_count": 17,
   "id": "da1d4289-2f65-4a94-88fc-841bf3e40068",
   "metadata": {},
   "outputs": [],
   "source": [
    "co2_vs_gdp_scatterplot = co2_vs_gdp_scatterplot_pipeline.hvplot(x='gdp_per_capita', \n",
    "                                                                y='co2', \n",
    "                                                                by='country', \n",
    "                                                                size=80, kind=\"scatter\", \n",
    "                                                                alpha=0.7,\n",
    "                                                                legend=False, \n",
    "                                                                height=500, \n",
    "                                                                width=500)\n",
    "co2_vs_gdp_scatterplot"
   ]
  },
  {
   "cell_type": "markdown",
   "id": "582ad1e4-a76a-4033-b380-bf1a82db634e",
   "metadata": {},
   "source": [
    "## (4) Bar chart with CO2 sources by continent"
   ]
  },
  {
   "cell_type": "code",
   "execution_count": 18,
   "id": "5bf7f84e-44b1-4e4b-9486-7cfd10fa0d03",
   "metadata": {},
   "outputs": [],
   "source": [
    "yaxis_co2_source = pn.widgets.RadioButtonGroup(\n",
    "    name='Y axis', \n",
    "    options=['coal_co2', 'oil_co2', 'gas_co2'], \n",
    "    button_type='success'\n",
    ")\n",
    "\n",
    "continents_excl_world = ['Asia', 'Oceania', 'Europe', 'Africa', 'North America', 'South America', 'Antarctica']\n",
    "\n",
    "co2_source_bar_pipeline = (\n",
    "    idf[\n",
    "        (idf.year == year_slider) &\n",
    "        (idf.country.isin(continents_excl_world))\n",
    "    ]\n",
    "    .groupby(['year', 'country'])[yaxis_co2_source].sum()\n",
    "    .to_frame()\n",
    "    .reset_index()\n",
    "    .sort_values(by='year')  \n",
    "    .reset_index(drop=True)\n",
    ")"
   ]
  },
  {
   "cell_type": "code",
   "execution_count": 19,
   "id": "2c80f1dd-a24d-4342-916c-be7720ee0988",
   "metadata": {},
   "outputs": [],
   "source": [
    "co2_source_bar_plot = co2_source_bar_pipeline.hvplot(kind='bar', \n",
    "                                                     x='country', \n",
    "                                                     y=yaxis_co2_source, \n",
    "                                                     title='CO2 source by continent')\n",
    "co2_source_bar_plot"
   ]
  },
  {
   "cell_type": "markdown",
   "id": "ef1d523e-0409-4024-9783-2b654b8f9d53",
   "metadata": {},
   "source": [
    "## Creating Dashboard"
   ]
  },
  {
   "cell_type": "code",
   "execution_count": 23,
   "id": "1c2e45bf-37c7-48e0-a2d3-a36da8843362",
   "metadata": {},
   "outputs": [],
   "source": [
    "#Layout using Template\n",
    "template = pn.template.FastListTemplate(\n",
    "    title='세계 이산화탄소 배출량', \n",
    "    sidebar=[pn.pane.Markdown(\"# CO2 Emissions and Climate Change\"), \n",
    "             pn.pane.Markdown(\"#### Carbon dioxide emissions are the primary driver of global climate change. It’s widely recognised that to avoid the worst impacts of climate change, the world needs to urgently reduce emissions. But, how this responsibility is shared between regions, countries, and individuals has been an endless point of contention in international discussions.\"), \n",
    "             pn.pane.PNG('climate_day.png', sizing_mode='scale_both'),\n",
    "             pn.pane.Markdown(\"## Settings\"),   \n",
    "             year_slider],\n",
    "    main=[pn.Row(pn.Column(yaxis_co2, \n",
    "                           co2_plot.panel(width=700), margin=(0,25)), \n",
    "                 co2_table.panel(width=500)), \n",
    "          pn.Row(pn.Column(co2_vs_gdp_scatterplot.panel(width=600), margin=(0,25)), \n",
    "                 pn.Column(yaxis_co2_source, co2_source_bar_plot.panel(width=600)))],\n",
    "    accent_base_color=\"#88d8b0\",\n",
    "    header_background=\"#88d8b0\",\n",
    ")\n",
    "# template.show()\n",
    "template.servable();"
   ]
  },
  {
   "cell_type": "code",
   "execution_count": 26,
   "id": "438f8daa-0017-4cb2-a8cb-c86784a6ab52",
   "metadata": {},
   "outputs": [],
   "source": [
    "template.show()"
   ]
  },
  {
   "cell_type": "code",
   "execution_count": 24,
   "id": "3012fb98",
   "metadata": {},
   "outputs": [],
   "source": [
    "template "
   ]
  },
  {
   "cell_type": "code",
   "execution_count": null,
   "id": "8b0389f6",
   "metadata": {},
   "outputs": [],
   "source": []
  }
 ],
 "metadata": {
  "kernelspec": {
   "display_name": "Python 3 (ipykernel)",
   "language": "python",
   "name": "python3"
  },
  "language_info": {
   "codemirror_mode": {
    "name": "ipython",
    "version": 3
   },
   "file_extension": ".py",
   "mimetype": "text/x-python",
   "name": "python",
   "nbconvert_exporter": "python",
   "pygments_lexer": "ipython3",
   "version": "3.10.8"
  }
 },
 "nbformat": 4,
 "nbformat_minor": 5
}
